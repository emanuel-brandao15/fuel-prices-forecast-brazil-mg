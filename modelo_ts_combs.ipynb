{
 "cells": [
  {
   "cell_type": "markdown",
   "metadata": {},
   "source": [
    "## **IMPORTAÇÃO DE BIBLIOTECAS**"
   ]
  },
  {
   "cell_type": "code",
   "execution_count": 1,
   "metadata": {},
   "outputs": [],
   "source": [
    "### BIBLIOTECAS UTILIZADAS NA ETAPA DE MACHINE LEARNING\n",
    "\n",
    "import pandas as pd\n",
    "import numpy as np\n",
    "import matplotlib.pyplot as plt\n",
    "import glob\n",
    "\n",
    "## PRÉ-PROCESSAMENTO DOS DADOS\n",
    "\n",
    "from sklearn.preprocessing import MinMaxScaler, OneHotEncoder\n",
    "from sklearn.model_selection import train_test_split, TimeSeriesSplit\n",
    "from sklearn.metrics import mean_squared_error, mean_absolute_error\n",
    "from mlforecast import MLForecast\n",
    "from mlforecast.lag_transforms import RollingMean\n",
    "from numba import njit\n",
    "\n",
    "## RANDOM FOREST\n",
    "from sklearn.ensemble import RandomForestRegressor\n",
    "\n",
    "## SARIMA\n",
    "import statsmodels as sm\n",
    "import pmdarima as pmd\n",
    "\n",
    "## LSTM\n",
    "from tensorflow.keras.models import Sequential\n",
    "from tensorflow.keras.layers import LSTM, Dense\n",
    "from tensorflow.keras.callbacks import EarlyStopping"
   ]
  },
  {
   "cell_type": "markdown",
   "metadata": {},
   "source": [
    "## **IMPORTAÇÃO DOS DADOS FINAIS**"
   ]
  },
  {
   "cell_type": "code",
   "execution_count": 99,
   "metadata": {},
   "outputs": [],
   "source": [
    "### IMPORTAÇÃO DOS DADOS FINAIS\n",
    "path_combs = r'C:\\Users\\Emanuel\\Desktop\\PUCMG\\TCC\\Dataframes'\n",
    "\n",
    "files = glob.glob(path_combs + '/*.csv')\n",
    "many_dfs = [pd.read_csv(file, sep=',') for file in files]\n",
    "df_fuels = pd.concat(many_dfs, ignore_index=False)\n",
    "\n",
    "df_fuels['data'] = pd.to_datetime(df_fuels['data'])\n",
    "df_fuels['tipo_comb'] = df_fuels['tipo_comb'].astype('string')"
   ]
  },
  {
   "cell_type": "markdown",
   "metadata": {},
   "source": [
    "## **PRÉ-PROCESSAMENTO DOS DADOS PARA MODELAGEM**"
   ]
  },
  {
   "cell_type": "code",
   "execution_count": 100,
   "metadata": {},
   "outputs": [],
   "source": [
    "## RENOMEANDO AS COLUNAS DE DATA, VARIÁVEL TARGET E IDENTIFICADOR DA SÉRIE TEMPORAL PARA SE ADEQUAR AO MLFORECAST\n",
    "df_fuels = df_fuels.rename(columns={'data': 'ds', 'preco_medio': 'y', 'tipo_comb': 'unique_id'})"
   ]
  },
  {
   "cell_type": "code",
   "execution_count": 101,
   "metadata": {},
   "outputs": [],
   "source": [
    "## DEFININDO OS OBJETOS PARA CÁLCULO DAS FEATURES COMO DIFERENÇA, LAGS E MÉDIA MÓVEL\n",
    "\n",
    "### FUNÇÃO DE DIFERENCIAÇÃO DEFINIDA UTILIZANDO O NUMBA (ADEQUADO AO MLFORECAST)\n",
    "@njit\n",
    "def difference(x, lag):\n",
    "    diff_x = np.full_like(x, np.nan)\n",
    "    for i in range(lag, len(x)):\n",
    "        diff_x[i] = x[i] - x[i-lag]\n",
    "    return diff_x\n",
    "\n",
    "### OBJETO DO MLFORECAST PARA CÁLCULO DE FEATURES COMO LAGS, MÉDIA MÓVEL E VARIÁVEIS DE DATA\n",
    "get_features = MLForecast(\n",
    "    models=[],\n",
    "    freq='D',\n",
    "    lags=[1,7],\n",
    "    lag_transforms={\n",
    "        1: [RollingMean(window_size=3), RollingMean(window_size=7), (difference, 1), (difference, 7)]\n",
    "    },\n",
    "    date_features=['dayofweek', 'month', 'year'],\n",
    "    num_threads=2\n",
    ")\n",
    "\n",
    "### APLICAÇÃO DO OBJETO NO DATAFRAME PARA OBTENÇÃO DAS FEATURES\n",
    "df_fuels = get_features.preprocess(df_fuels, id_col='unique_id', time_col='ds', target_col='y', static_features=[])"
   ]
  },
  {
   "cell_type": "code",
   "execution_count": 105,
   "metadata": {},
   "outputs": [
    {
     "name": "stdout",
     "output_type": "stream",
     "text": [
      "Número de dias na série temporal do ETANOL:\n",
      "622 dias.\n",
      "\n",
      "Número de dias na série temporal do GASOLINA:\n",
      "622 dias.\n",
      "\n",
      "Número de variáveis independentes das duas séries:\n",
      "19 colunas.\n"
     ]
    }
   ],
   "source": [
    "## SEPARAÇÃO DOS DATAFRAMES PARA CADA COMBUSTÍVEL E TAMBÉM DA VARIÁVEL TARGET\n",
    "\n",
    "X_gasolina = df_fuels[df_fuels['unique_id'] == 'GASOLINA'].drop(columns=['y']).reset_index(drop=True)\n",
    "X_etanol = df_fuels[df_fuels['unique_id'] == 'ETANOL'].drop(columns=['y']).reset_index(drop=True)\n",
    "y_gasolina = df_fuels[df_fuels['unique_id'] == 'GASOLINA']['y'].reset_index(drop=True)\n",
    "y_etanol = df_fuels[df_fuels['unique_id'] == 'ETANOL']['y'].reset_index(drop=True)\n",
    "\n",
    "print(f\"Número de dias na série temporal do ETANOL:\\n{X_etanol.shape[0]} dias.\\n\")\n",
    "print(f\"Número de dias na série temporal do GASOLINA:\\n{X_gasolina.shape[0]} dias.\\n\")\n",
    "print(f\"Número de variáveis independentes das duas séries:\\n{X_etanol.shape[1]} colunas.\")"
   ]
  },
  {
   "cell_type": "code",
   "execution_count": 145,
   "metadata": {},
   "outputs": [],
   "source": [
    "tscv = TimeSeriesSplit(n_splits=4, test_size=90)\n",
    "folds_treino = []\n",
    "folds_teste = []\n",
    "for train_index, test_index in tscv.split(X_gasolina):\n",
    "    folds_treino.append(X.iloc[train_index])\n",
    "    folds_teste.append(X.iloc[test_index])"
   ]
  },
  {
   "cell_type": "code",
   "execution_count": 169,
   "metadata": {},
   "outputs": [
    {
     "name": "stdout",
     "output_type": "stream",
     "text": [
      "TREINO\n",
      "-----------------\n",
      "FOLD_0: 262 datas\n",
      "-----------------\n",
      "FOLD_1: 352 datas\n",
      "-----------------\n",
      "FOLD_2: 442 datas\n",
      "-----------------\n",
      "FOLD_3: 532 datas\n",
      "-----------------\n",
      "\n",
      "TESTE\n",
      "-----------------\n",
      "FOLD_0: 90 datas\n",
      "-----------------\n",
      "FOLD_1: 90 datas\n",
      "-----------------\n",
      "FOLD_2: 90 datas\n",
      "-----------------\n",
      "FOLD_3: 90 datas\n",
      "-----------------\n"
     ]
    }
   ],
   "source": [
    "print(\"TREINO\\n-----------------\")\n",
    "for i in range(len(folds_treino)):\n",
    "    print(f\"FOLD_{i}: {folds_treino[i].shape[0]} datas\\n-----------------\")\n",
    "\n",
    "print(\"\\nTESTE\\n-----------------\")\n",
    "for i in range(len(folds_teste)):\n",
    "    print(f\"FOLD_{i}: {folds_teste[i].shape[0]} datas\\n-----------------\")"
   ]
  },
  {
   "cell_type": "code",
   "execution_count": 141,
   "metadata": {},
   "outputs": [
    {
     "data": {
      "image/png": "[encoded data removed]",
      "text/plain": [
       "<Figure size 1000x600 with 1 Axes>"
      ]
     },
     "metadata": {},
     "output_type": "display_data"
    }
   ],
   "source": [
    "# Define the plotting function\n",
    "def plot_cross_valid(cv_obj, X, y, datas, ax):\n",
    "\n",
    "    n_splits = cv_obj.get_n_splits()\n",
    "    \n",
    "    for i, (train_index, test_index) in enumerate(cv_obj.split(X)):\n",
    "        ax.scatter(datas[train_index], [i + 0.5] * len(train_index), c='tab:red', marker='_', lw=10, label='Treino' if i == 0 else \"\")\n",
    "        ax.scatter(datas[test_index], [i + 0.5] * len(test_index), c='tab:blue', marker='_', lw=10, label='Teste' if i == 0 else \"\")\n",
    "    \n",
    "    ax.set(ylim=[n_splits + 0.5, -0.5], title='Visualização dos Folds da Cross Validation', xlabel='Data', ylabel='Fold')\n",
    "    ax.legend(loc='best')\n",
    "    ax.set_yticks(np.arange(n_splits) + 0.5)\n",
    "    ax.set_yticklabels([f'Fold {i + 1}' for i in range(n_splits)])\n",
    "    ax.grid(True)\n",
    "    return ax\n",
    "\n",
    "# Plot the cross-validation splits\n",
    "fig, ax = plt.subplots(figsize=(10, 6))\n",
    "datas = X_gasolina['ds']\n",
    "plot_cross_valid(tscv, X_gasolina, y_gasolina, datas, ax)\n",
    "plt.show()"
   ]
  }
 ],
 "metadata": {
  "kernelspec": {
   "display_name": "my_venv",
   "language": "python",
   "name": "python3"
  },
  "language_info": {
   "codemirror_mode": {
    "name": "ipython",
    "version": 3
   },
   "file_extension": ".py",
   "mimetype": "text/x-python",
   "name": "python",
   "nbconvert_exporter": "python",
   "pygments_lexer": "ipython3",
   "version": "3.12.3"
  }
 },
 "nbformat": 4,
 "nbformat_minor": 2
}
